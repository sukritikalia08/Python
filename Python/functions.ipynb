{
 "cells": [
  {
   "cell_type": "markdown",
   "id": "eb292f1a-c611-467b-b0fa-12797e03150a",
   "metadata": {},
   "source": [
    "# Functions"
   ]
  },
  {
   "cell_type": "markdown",
   "id": "a491609b-5d59-4c59-868e-d6a137d7e0bc",
   "metadata": {},
   "source": [
    "#### Function is  ablock of a code that performs a specific task"
   ]
  },
  {
   "cell_type": "markdown",
   "id": "b2b31d72-34ac-4d7f-a7b5-22146a77f219",
   "metadata": {},
   "source": [
    "#### 1. You are given two lists of numbers and you need to find total of each of these list"
   ]
  },
  {
   "cell_type": "code",
   "execution_count": 12,
   "id": "6d5bc516-d2a7-47f1-a965-45fbcda5c642",
   "metadata": {},
   "outputs": [
    {
     "name": "stdout",
     "output_type": "stream",
     "text": [
      "Tom's expenses: 9000\n",
      "Joe's expenses: 1400\n"
     ]
    }
   ],
   "source": [
    "def calculate_total(exp):    #exp will be our those lists which we want to add, here we took those lists as input\n",
    "    total=0\n",
    "    for items in exp:\n",
    "        total=total+items\n",
    "    return total\n",
    "    # We created the function above\n",
    "tom_exp_list = [2100,3400,3500]\n",
    "joe_exp_list = [200,400,800]\n",
    "\n",
    "toms_total=calculate_total(tom_exp_list)\n",
    "#we created a new variable through which we will call our function\n",
    "joes_total=calculate_total(joe_exp_list)\n",
    "\n",
    "print(\"Tom's expenses:\",toms_total)\n",
    "print(\"Joe's expenses:\",joes_total)"
   ]
  },
  {
   "cell_type": "markdown",
   "id": "e07ef509-1ac0-4e44-8d75-5f70c00c01f7",
   "metadata": {},
   "source": [
    "#### 2. Normal sum function"
   ]
  },
  {
   "cell_type": "code",
   "execution_count": 14,
   "id": "07487293-f2a4-43e4-a4d6-bd3112d85b39",
   "metadata": {},
   "outputs": [
    {
     "name": "stdout",
     "output_type": "stream",
     "text": [
      "a: 5\n",
      "b: 6\n",
      "Total inside function: 11\n",
      "Total outside function: 11\n"
     ]
    }
   ],
   "source": [
    "def sum(a,b):\n",
    "    print(\"a:\",a)\n",
    "    print(\"b:\",b)\n",
    "    total=a+b\n",
    "    print(\"Total inside function:\",total)\n",
    "    return total\n",
    "n=sum(5,6)\n",
    "print(\"Total outside function:\",n)\n"
   ]
  },
  {
   "cell_type": "markdown",
   "id": "4124aac5-1a26-424d-b8f7-84b96b69a386",
   "metadata": {},
   "source": [
    "#### Variables which are outside the function are called as global variable \n",
    "#### Variables which are inside the function are called as local variable\n",
    "#### Inside reference function if you assign a specific arguement of value that becomes the default value for that arguement"
   ]
  },
  {
   "cell_type": "code",
   "execution_count": null,
   "id": "dd01c84b-abec-4535-9506-64d6cb594fa4",
   "metadata": {},
   "outputs": [],
   "source": []
  }
 ],
 "metadata": {
  "kernelspec": {
   "display_name": "Python 3 (ipykernel)",
   "language": "python",
   "name": "python3"
  },
  "language_info": {
   "codemirror_mode": {
    "name": "ipython",
    "version": 3
   },
   "file_extension": ".py",
   "mimetype": "text/x-python",
   "name": "python",
   "nbconvert_exporter": "python",
   "pygments_lexer": "ipython3",
   "version": "3.11.3"
  }
 },
 "nbformat": 4,
 "nbformat_minor": 5
}
