{
 "cells": [
  {
   "cell_type": "markdown",
   "id": "459974e6-b3a7-450a-a102-00ea231efa49",
   "metadata": {},
   "source": [
    "# If Statements  "
   ]
  },
  {
   "cell_type": "markdown",
   "id": "320c5d18-7b9a-46d9-91c2-b66ad71b17f8",
   "metadata": {},
   "source": [
    "#### 1. Write a program that asks the user to enter a number. Program should tell if the number is odd or even"
   ]
  },
  {
   "cell_type": "code",
   "execution_count": 4,
   "id": "13e37978-26d6-47dc-82d7-a47339a626b5",
   "metadata": {},
   "outputs": [
    {
     "name": "stdin",
     "output_type": "stream",
     "text": [
      "Enter the number:  86666\n"
     ]
    },
    {
     "name": "stdout",
     "output_type": "stream",
     "text": [
      "Number is even\n"
     ]
    }
   ],
   "source": [
    "num=input(\"Enter the number: \")  #input is the function to take data from the user\n",
    "num=int(num) # here we converted string into integer\n",
    "if num%2==0:   # : this means the begininning of the block\n",
    "    print(\"Number is even\")\n",
    "else:\n",
    "    print (\"Number is odd\")\n"
   ]
  },
  {
   "cell_type": "markdown",
   "id": "1b96d754-c7c3-41e3-bc56-15791c0e95b9",
   "metadata": {},
   "source": [
    "#### 2. Write a program that asks the user to enter dish name and it should print which cusine is that"
   ]
  },
  {
   "cell_type": "code",
   "execution_count": 12,
   "id": "4995fd15-0fb3-44f2-bffb-5694919e21d2",
   "metadata": {},
   "outputs": [
    {
     "name": "stdin",
     "output_type": "stream",
     "text": [
      "What you wanna eat:  Pasta\n"
     ]
    },
    {
     "name": "stdout",
     "output_type": "stream",
     "text": [
      "It's Italian cuisine\n"
     ]
    }
   ],
   "source": [
    "Indian=[\"Dal Chawal\",\"Puri Aalo\",\"Sbzi Roti\"]\n",
    "Chinese=[\"Noodles\",\"Spring Rolls\",\"Manchurian\"]\n",
    "Italian=[\"Pizza\",\"Pasta\",\"Garlic Bread\"]\n",
    "Cuisine=input(\"What you wanna eat: \")\n",
    "if Cuisine in Indian:\n",
    "    print(\"It's Indian Cuisine\")\n",
    "elif Cuisine in Chinese:\n",
    "    print(\"It's Chinese cuisine\")\n",
    "elif Cuisine in Italian:\n",
    "    print(\"It's Italian cuisine\")\n",
    "else:\n",
    "    print(\"Sorry!, it's not available at the momemnt\")\n",
    "    "
   ]
  },
  {
   "cell_type": "markdown",
   "id": "053046a5-994e-44c1-8417-a328e278e118",
   "metadata": {},
   "source": [
    "#### 3. Write a program to check whether a person is eligible for voting or not."
   ]
  },
  {
   "cell_type": "code",
   "execution_count": 16,
   "id": "693d0304-f9c9-4b05-9565-47f7f6720c77",
   "metadata": {},
   "outputs": [
    {
     "name": "stdin",
     "output_type": "stream",
     "text": [
      "Enter your age:  88\n"
     ]
    },
    {
     "name": "stdout",
     "output_type": "stream",
     "text": [
      "You are eligible to vote\n"
     ]
    }
   ],
   "source": [
    "Age=input(\"Enter your age: \")\n",
    "Age=int(Age)\n",
    "if Age>=18:\n",
    "    print(\"You are eligible to vote\")\n",
    "else:\n",
    "    print(\"You are not eligible\")"
   ]
  },
  {
   "cell_type": "markdown",
   "id": "94629bbc-d6c2-40fd-993c-24dcd88f3e81",
   "metadata": {},
   "source": [
    "#### 4. Write a program to check whether a number is divisible by 7 or not"
   ]
  },
  {
   "cell_type": "code",
   "execution_count": 18,
   "id": "6fea73b4-3b93-443d-abda-57992765cf9d",
   "metadata": {},
   "outputs": [
    {
     "name": "stdin",
     "output_type": "stream",
     "text": [
      "Enter your number:  56\n"
     ]
    },
    {
     "name": "stdout",
     "output_type": "stream",
     "text": [
      "Number is divisible by 7\n"
     ]
    }
   ],
   "source": [
    "num=input(\"Enter your number: \")\n",
    "num=int(num)\n",
    "if num%7==0:\n",
    "    print(\"Number is divisible by 7\")\n",
    "else:\n",
    "    print(\"Number is not divisible by 7\")"
   ]
  },
  {
   "cell_type": "markdown",
   "id": "a0a97da7-db77-4233-94e3-8bac3291982e",
   "metadata": {},
   "source": [
    "#### 5. Write a program to display \"Hello\" if a number entered by user is a multiple of 5, otherwise print \"Bye\""
   ]
  },
  {
   "cell_type": "code",
   "execution_count": 20,
   "id": "53ad8e83-a4e3-4624-b89b-4b5ca97900a1",
   "metadata": {},
   "outputs": [
    {
     "name": "stdin",
     "output_type": "stream",
     "text": [
      "Enter your number:  6\n"
     ]
    },
    {
     "name": "stdout",
     "output_type": "stream",
     "text": [
      "Bye\n"
     ]
    }
   ],
   "source": [
    "num=input(\"Enter your number: \")\n",
    "num=int(num)\n",
    "if num%5==0:\n",
    "    print(\"Hello\")\n",
    "else:\n",
    "    print(\"Bye\")\n",
    "    "
   ]
  },
  {
   "attachments": {},
   "cell_type": "markdown",
   "id": "2b9d1aec-fa2e-4604-bd5d-bbf678b1921f",
   "metadata": {},
   "source": [
    "#### 6. Write a program to calculate the electricity bill (accept the number of unit from the user) according to the following criteria:\n",
    "\n",
    "\n",
    "#### unit--                              Price\n",
    "#### first 100 units--                   no charge\n",
    "#### Next 100 units--                    ₹5 per unit\n",
    "#### After 200 units--                  ₹10 per unit\n"
   ]
  },
  {
   "cell_type": "code",
   "execution_count": 34,
   "id": "07fb9b7d-2446-473a-bf03-5f64be8bd117",
   "metadata": {},
   "outputs": [
    {
     "name": "stdin",
     "output_type": "stream",
     "text": [
      "Enter your units:  800\n"
     ]
    },
    {
     "name": "stdout",
     "output_type": "stream",
     "text": [
      "Your bill is:  6500\n"
     ]
    }
   ],
   "source": [
    "amt=0\n",
    "unit=input(\"Enter your units: \")\n",
    "unit=int(unit)\n",
    "if unit<=100:\n",
    "    print(\"no charge\")\n",
    "elif unit>100 and unit<=200:\n",
    "    amt=(unit-100)*5\n",
    "    print(\"Your bill is: \",amt)\n",
    "elif unit>200:\n",
    "    amt=500+(unit-200)*10\n",
    "    print(\"Your bill is: \",amt)\n"
   ]
  },
  {
   "cell_type": "markdown",
   "id": "abcdf219-a390-46fc-954f-ce93ba87515d",
   "metadata": {},
   "source": [
    "#### 7. Write a program to display the last digit of a number."
   ]
  },
  {
   "cell_type": "code",
   "execution_count": 37,
   "id": "32756a5d-1bf7-439b-bacc-d2bfcabf9645",
   "metadata": {},
   "outputs": [
    {
     "name": "stdin",
     "output_type": "stream",
     "text": [
      "Enter your number 48204932472\n"
     ]
    },
    {
     "name": "stdout",
     "output_type": "stream",
     "text": [
      "Last digit of your number is:  2\n"
     ]
    }
   ],
   "source": [
    "num=int(input(\"Enter your number\"))\n",
    "lastnum=num%10\n",
    "print(\"Last digit of your number is: \",lastnum)"
   ]
  },
  {
   "cell_type": "markdown",
   "id": "d5ecd7a6-0f4c-419b-9880-ff2e6e672237",
   "metadata": {},
   "source": [
    "#### 8. Write a program to check whether the last digit of a number (entered by the user ) is divisible by 3 or not."
   ]
  },
  {
   "cell_type": "code",
   "execution_count": 39,
   "id": "b50c46a6-212c-4cff-878e-2d201f011d14",
   "metadata": {},
   "outputs": [
    {
     "name": "stdin",
     "output_type": "stream",
     "text": [
      "Enter your number:  59\n"
     ]
    },
    {
     "name": "stdout",
     "output_type": "stream",
     "text": [
      "Divisible by 3\n"
     ]
    }
   ],
   "source": [
    "num=int(input(\"Enter your number: \"))\n",
    "lastnum=num%10\n",
    "if lastnum%3==0:\n",
    "    print(\"Divisible by 3\")\n",
    "else:\n",
    "    print(\"Not divisible by 3\")"
   ]
  },
  {
   "cell_type": "markdown",
   "id": "1b82bdf0-1215-4a81-98e9-8d23e5bf51aa",
   "metadata": {},
   "source": [
    "#### 9. Write a program to accept percentage from the user and display the grade according to the following criteria:\n",
    "#### Marks--Grade\n",
    "#### >90--A\n",
    "#### >80 and <=90--B\n",
    "#### >=60 and <=80--C\n",
    "#### below 60--D"
   ]
  },
  {
   "cell_type": "code",
   "execution_count": 42,
   "id": "a23f9f2d-731c-43fb-b6bc-500f3fcc3e53",
   "metadata": {},
   "outputs": [
    {
     "name": "stdin",
     "output_type": "stream",
     "text": [
      "Your percentage:  50\n"
     ]
    },
    {
     "name": "stdout",
     "output_type": "stream",
     "text": [
      "D\n"
     ]
    }
   ],
   "source": [
    "Marks= int(input(\"Your percentage: \"))\n",
    "if Marks>90:\n",
    "    print(\"A\")\n",
    "elif Marks>80 and Marks<=90:\n",
    "    print(\"B\")\n",
    "elif Marks>=60 and Marks<=80:\n",
    "    print(\"C\")\n",
    "elif Marks<60:\n",
    "    print(\"D\")"
   ]
  },
  {
   "cell_type": "markdown",
   "id": "85a559cf-828e-41af-9eca-bc0e706b7b99",
   "metadata": {},
   "source": [
    "#### 10. Write a program to accept the cost price of a bike and display the road tax to be paid according to the following criteria :\n",
    "    \n",
    "####        Cost price (in Rs)--                                       Tax\n",
    "####        > 100000           --                                       15 %\n",
    "####        > 50000 and <= 100000    --                      10%\n",
    "####        <= 50000                   --                               5%"
   ]
  },
  {
   "cell_type": "code",
   "execution_count": 45,
   "id": "a9c232da-1171-43ad-a80a-93a5c11ee8da",
   "metadata": {},
   "outputs": [
    {
     "name": "stdin",
     "output_type": "stream",
     "text": [
      "Enter your bike price:  5000000\n"
     ]
    },
    {
     "name": "stdout",
     "output_type": "stream",
     "text": [
      "Tax to be paid:  750000.0\n"
     ]
    }
   ],
   "source": [
    "price=int(input(\"Enter your bike price: \"))\n",
    "tax=0\n",
    "if price>100000:\n",
    "    tax=15/100*price\n",
    "    print(\"Tax to be paid: \",tax)\n",
    "elif price>50000 and price<=100000:\n",
    "    tax=10/100*price\n",
    "    print(\"Tax to be paid: \",tax)\n",
    "else:\n",
    "    tax=5/100*price\n",
    "    print(\"Tax to be paid: \",tax)"
   ]
  },
  {
   "cell_type": "markdown",
   "id": "f93c2b49-0152-4d83-b844-1edd886728c7",
   "metadata": {},
   "source": [
    "#### 11. Write a program to check whether an years is leap year or not."
   ]
  },
  {
   "cell_type": "code",
   "execution_count": 48,
   "id": "1e94127a-8a09-45b4-a073-99ab724fe219",
   "metadata": {},
   "outputs": [
    {
     "name": "stdin",
     "output_type": "stream",
     "text": [
      "Enter the year:  5555\n"
     ]
    },
    {
     "name": "stdout",
     "output_type": "stream",
     "text": [
      "not a leap year\n"
     ]
    }
   ],
   "source": [
    "year=int(input(\"Enter the year: \"))\n",
    "if year%100==0:\n",
    "    if year%400==0:\n",
    "        print(\"Leap Year\")\n",
    "    else:\n",
    "        print(\"Not a leap year\")\n",
    "elif year%4==0:\n",
    "    print(\"Leap Year\")\n",
    "else:\n",
    "    print(\"not a leap year\")"
   ]
  },
  {
   "cell_type": "markdown",
   "id": "18f29cb8-db88-4bca-bf9f-85d7af727b79",
   "metadata": {},
   "source": [
    "#### 12. Write a program to accept a number from 1 to 7 and display the name of the day like 1 for Sunday , 2 for Monday and so on.\r\n",
    "\r\n"
   ]
  },
  {
   "cell_type": "code",
   "execution_count": 52,
   "id": "10495e29-387e-4758-9821-c96dcaf75cf1",
   "metadata": {},
   "outputs": [
    {
     "name": "stdin",
     "output_type": "stream",
     "text": [
      "Enter the day number:  9\n"
     ]
    },
    {
     "name": "stdout",
     "output_type": "stream",
     "text": [
      "Invalid\n"
     ]
    }
   ],
   "source": [
    "Dayno=int(input(\"Enter the day number: \"))\n",
    "if Dayno==1:\n",
    "    print(\"Sunday\")\n",
    "elif Dayno==2:\n",
    "    print(\"Monday\")\n",
    "elif Dayno==3:\n",
    "    print(\"Tuesday\")\n",
    "elif Dayno==4:\n",
    "    print(\"Wednesday\")\n",
    "elif Dayno==5:\n",
    "    print(\"Thursday\")\n",
    "elif Dayno==6:\n",
    "    print(\"Friday\")\n",
    "elif Dayno==7:\n",
    "    print(\"Saturday\")\n",
    "else:\n",
    "    print(\"Invalid\")"
   ]
  },
  {
   "cell_type": "markdown",
   "id": "03752437-326c-444d-aa60-f4f6699b520c",
   "metadata": {},
   "source": [
    "#### 13. Write a program to check whether a number entered is three digit number or not."
   ]
  },
  {
   "cell_type": "code",
   "execution_count": 58,
   "id": "9c555f57-a326-495e-94bd-e5b1934bab7f",
   "metadata": {},
   "outputs": [
    {
     "name": "stdin",
     "output_type": "stream",
     "text": [
      "Enter number:  4\n"
     ]
    },
    {
     "name": "stdout",
     "output_type": "stream",
     "text": [
      "The number entered is not a valid 3-digit number.\n"
     ]
    }
   ],
   "source": [
    "num=int(input(\"Enter number: \"))\n",
    "if len(str(num)) == 3 and str(num).isdigit() and int(num) > 99:\n",
    "    print(\"The number entered is a valid 3-digit number.\")\n",
    "else:\n",
    "    print(\"The number entered is not a valid 3-digit number.\")\n"
   ]
  },
  {
   "cell_type": "code",
   "execution_count": null,
   "id": "8875b403-5911-43cc-a5ab-ab5651204adc",
   "metadata": {},
   "outputs": [],
   "source": []
  }
 ],
 "metadata": {
  "kernelspec": {
   "display_name": "Python 3 (ipykernel)",
   "language": "python",
   "name": "python3"
  },
  "language_info": {
   "codemirror_mode": {
    "name": "ipython",
    "version": 3
   },
   "file_extension": ".py",
   "mimetype": "text/x-python",
   "name": "python",
   "nbconvert_exporter": "python",
   "pygments_lexer": "ipython3",
   "version": "3.11.3"
  }
 },
 "nbformat": 4,
 "nbformat_minor": 5
}
