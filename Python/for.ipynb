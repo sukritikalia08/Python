{
 "cells": [
  {
   "cell_type": "markdown",
   "id": "041c77be-f5c8-4ba9-aba9-dc1e58fef702",
   "metadata": {},
   "source": [
    "# FOR LOOP"
   ]
  },
  {
   "cell_type": "markdown",
   "id": "bc4f9d0c-b6de-436b-a97d-757dd555b5ad",
   "metadata": {},
   "source": [
    "#### 1. Store monthly expenses in a list and find out total expenses for all months"
   ]
  },
  {
   "cell_type": "code",
   "execution_count": 3,
   "id": "ab76cc8c-3b9b-44ad-8055-75d5fc5a465b",
   "metadata": {},
   "outputs": [
    {
     "name": "stdout",
     "output_type": "stream",
     "text": [
      "13738\n"
     ]
    }
   ],
   "source": [
    "exp = [2340, 2500, 3100, 4598, 1200]\n",
    "total=0\n",
    "for item in exp:\n",
    "    total=total+item\n",
    "print(total)"
   ]
  },
  {
   "cell_type": "markdown",
   "id": "d2969380-67e5-4621-974c-199eb2d0c77a",
   "metadata": {},
   "source": [
    "#### 2. Print 1 to 10 using range()\n",
    "##### In range() we specify our two indexes that are start index (where we have to start and stop index (where you want to stop +1 )"
   ]
  },
  {
   "cell_type": "code",
   "execution_count": 7,
   "id": "befecaa8-8e27-4630-b41c-91f91fdb43fa",
   "metadata": {},
   "outputs": [
    {
     "name": "stdout",
     "output_type": "stream",
     "text": [
      "1\n",
      "2\n",
      "3\n",
      "4\n",
      "5\n",
      "6\n",
      "7\n",
      "8\n",
      "9\n",
      "10\n"
     ]
    }
   ],
   "source": [
    "for i in range(1,11):\n",
    "    print(i)"
   ]
  },
  {
   "cell_type": "markdown",
   "id": "16c2dce1-c322-4977-b697-33b4cfd2b414",
   "metadata": {},
   "source": [
    "#### 3. Print the square of numbers from 1 to 10"
   ]
  },
  {
   "cell_type": "code",
   "execution_count": 9,
   "id": "de77c10f-8410-4063-8797-2ba139b91400",
   "metadata": {},
   "outputs": [
    {
     "name": "stdout",
     "output_type": "stream",
     "text": [
      "1\n",
      "4\n",
      "9\n",
      "16\n",
      "25\n",
      "36\n",
      "49\n",
      "64\n",
      "81\n",
      "100\n"
     ]
    }
   ],
   "source": [
    "for i in range (1,11):\n",
    "    print(i*i)"
   ]
  },
  {
   "cell_type": "markdown",
   "id": "0f841bc8-7277-4dfc-9cf6-a335f35f7908",
   "metadata": {},
   "source": [
    "#### 3. Print the cube of numbers from 1 to 10"
   ]
  },
  {
   "cell_type": "code",
   "execution_count": 12,
   "id": "8971ffe7-e26d-4f45-b1db-fb6021e08fed",
   "metadata": {},
   "outputs": [
    {
     "name": "stdout",
     "output_type": "stream",
     "text": [
      "1\n",
      "8\n",
      "27\n",
      "64\n",
      "125\n",
      "216\n",
      "343\n",
      "512\n",
      "729\n",
      "1000\n"
     ]
    }
   ],
   "source": [
    "for i in range(1,11):\n",
    "    print(i**3)"
   ]
  },
  {
   "cell_type": "markdown",
   "id": "024d43b7-f66a-43a7-90db-22efeba293ca",
   "metadata": {},
   "source": [
    "#### 4. Store monthly expenses in a list and find out total expenses for all months and print month number and expense and in the end print total expense"
   ]
  },
  {
   "cell_type": "code",
   "execution_count": 16,
   "id": "dd1a0466-e7d4-4485-9077-153fa03494b8",
   "metadata": {},
   "outputs": [
    {
     "name": "stdout",
     "output_type": "stream",
     "text": [
      "Month 1 Expense: 2340\n",
      "Month 2 Expense: 2500\n",
      "Month 3 Expense: 3100\n",
      "Month 4 Expense: 4598\n",
      "Month 5 Expense: 1200\n",
      "Total expense is: 13738\n"
     ]
    }
   ],
   "source": [
    "exp = [2340, 2500, 3100, 4598, 1200]\n",
    "total=0\n",
    "for i in range(len(exp)):\n",
    "    print(\"Month\",(i+1),\"Expense:\",exp[i])\n",
    "    total=total+exp[i]\n",
    "print(\"Total expense is:\",total)"
   ]
  },
  {
   "cell_type": "markdown",
   "id": "1b75cd14-4c5a-48b3-a17c-b0834898a321",
   "metadata": {},
   "source": [
    "#### 5. Search for lost car key in home and when found stop searching"
   ]
  },
  {
   "cell_type": "code",
   "execution_count": 18,
   "id": "8b505aa4-6c0a-4068-bd04-20e1f21d008d",
   "metadata": {},
   "outputs": [
    {
     "name": "stdout",
     "output_type": "stream",
     "text": [
      "Key is not found anywhere garage\n",
      "Key is not found anywhere Living room\n",
      "Key is not found anywhere Bed Room\n",
      "Key is found in Chair\n"
     ]
    }
   ],
   "source": [
    "key_location=\"Chair\"\n",
    "locations=[\"garage\",\"Living room\",\"Bed Room\",\"Chair\",\"Closet\",\"Bathroom\"]\n",
    "for i in locations:\n",
    "    if i==key_location:\n",
    "        print(\"Key is found in\",i)\n",
    "        break\n",
    "    else:\n",
    "        print(\"Key is not found anywhere\",i)"
   ]
  },
  {
   "cell_type": "markdown",
   "id": "6061af37-8489-4dea-8e47-c9b0ad677827",
   "metadata": {},
   "source": [
    "#### 6. Print the square of numbers between 1 to 5 except even numbers"
   ]
  },
  {
   "cell_type": "code",
   "execution_count": 23,
   "id": "815148e7-2cca-49bf-aaec-f0b8845c4c66",
   "metadata": {},
   "outputs": [
    {
     "name": "stdout",
     "output_type": "stream",
     "text": [
      "1\n",
      "9\n",
      "25\n"
     ]
    }
   ],
   "source": [
    "for i in range(1,6):\n",
    "    if i%2!=0:\n",
    "        print(i**2)\n",
    "    else:\n",
    "        continue     \n",
    "# here we used continue so that even number condition can jump back to oddd number condition and no space should left in the solution in space of even number"
   ]
  },
  {
   "cell_type": "markdown",
   "id": "02d40bc2-219a-4bbe-aa15-45e912aaedfe",
   "metadata": {},
   "source": [
    "#### 7. Print sum of all even numbers from 10 to 20"
   ]
  },
  {
   "cell_type": "code",
   "execution_count": 32,
   "id": "9e5cde7b-b439-41d9-a772-480b710c5bc9",
   "metadata": {},
   "outputs": [
    {
     "name": "stdout",
     "output_type": "stream",
     "text": [
      "sum is: 90\n"
     ]
    }
   ],
   "source": [
    "sum=0\n",
    "for i in range(10,21):\n",
    "    if i%2==0:\n",
    "        sum=sum+i\n",
    "        i+=1\n",
    "    else:\n",
    "        continue\n",
    "print(\"sum is:\", sum)"
   ]
  },
  {
   "cell_type": "markdown",
   "id": "0a07022d-f875-468b-9f5d-0f7f79700e39",
   "metadata": {},
   "source": [
    "#### 8. Python program to calculate the sum of all the odd numbers within the given range."
   ]
  },
  {
   "cell_type": "code",
   "execution_count": 35,
   "id": "8b11e82d-d214-4da1-b9b2-924ccb35a168",
   "metadata": {},
   "outputs": [
    {
     "name": "stdin",
     "output_type": "stream",
     "text": [
      "Enter your starting point 1\n",
      "Enter your stoping point 10\n"
     ]
    },
    {
     "name": "stdout",
     "output_type": "stream",
     "text": [
      "25\n"
     ]
    }
   ],
   "source": [
    "range1=int(input(\"Enter your starting point\"))\n",
    "range2=int(input(\"Enter your stoping point\"))\n",
    "sum=0\n",
    "for i in range(range1,range2):\n",
    "    if i%2!=0:\n",
    "        sum=sum+i\n",
    "    else:\n",
    "        continue\n",
    "print(sum)"
   ]
  },
  {
   "cell_type": "markdown",
   "id": "38e14baa-ff4a-4f8e-b2f1-d3f278d2b744",
   "metadata": {},
   "source": [
    "#### 9. Python program to check if the given string is a palindrome."
   ]
  },
  {
   "cell_type": "code",
   "execution_count": 10,
   "id": "cd23077f-bf6e-4642-9020-c951873d148e",
   "metadata": {},
   "outputs": [
    {
     "name": "stdin",
     "output_type": "stream",
     "text": [
      "Enter the string naman\n"
     ]
    },
    {
     "name": "stdout",
     "output_type": "stream",
     "text": [
      "The string naman is palindrome\n"
     ]
    }
   ],
   "source": [
    "given_string=input(\"Enter the string\")\n",
    "reverse_string=\"\"\n",
    "for i in given_string:          \n",
    "    reverse_string=i+reverse_string\n",
    "if(given_string==reverse_string):\n",
    "    print(\"The string\",given_string,\"is palindrome\")\n",
    "else:\n",
    "    print(\"The string\",given_string,\"is not palindrome\")"
   ]
  },
  {
   "cell_type": "markdown",
   "id": "a7780fd2-84e8-4895-9a2a-d94c96484f18",
   "metadata": {},
   "source": [
    "#### 10. Python program that accepts a word from the user and reverses it.\n",
    "\n"
   ]
  },
  {
   "cell_type": "code",
   "execution_count": 11,
   "id": "b6324e62-9326-4c42-a13d-5e0a8332966c",
   "metadata": {},
   "outputs": [
    {
     "name": "stdin",
     "output_type": "stream",
     "text": [
      "Write your word hello\n"
     ]
    },
    {
     "name": "stdout",
     "output_type": "stream",
     "text": [
      "olleh\n"
     ]
    }
   ],
   "source": [
    "given_string=input(\"Write your word\")\n",
    "reverse_string=\"\"\n",
    "for i in given_string:\n",
    "    reverse_string=i+reverse_string\n",
    "print(reverse_string)"
   ]
  },
  {
   "cell_type": "markdown",
   "id": "34f5fd3d-d16e-4a46-b441-fa20e82a6f11",
   "metadata": {},
   "source": [
    "#### 11. Python program to check if a given number is an Armstrong numbe"
   ]
  },
  {
   "cell_type": "code",
   "execution_count": 21,
   "id": "e0b49f29-b4a0-4ec6-9b92-519984a5103f",
   "metadata": {},
   "outputs": [
    {
     "name": "stdin",
     "output_type": "stream",
     "text": [
      "Enter your number 1634\n"
     ]
    },
    {
     "name": "stdout",
     "output_type": "stream",
     "text": [
      "Its Armstrong Number\n"
     ]
    }
   ],
   "source": [
    "number=input(\"Enter your number\")\n",
    "number=str(number)\n",
    "number_length=len(number)\n",
    "sum=0\n",
    "for i in number:\n",
    "    sum=sum+int(i)**number_length\n",
    "if(sum==int(number)):\n",
    "    print(\"Its Armstrong Number\")\n",
    "else:\n",
    "    print(\"It's not an Armstrong Number\")"
   ]
  },
  {
   "cell_type": "markdown",
   "id": "4cf3e525-1141-4b62-95f9-d5c76ef3ff35",
   "metadata": {},
   "source": [
    "#### 12. Python program to count the number of even and odd numbers from a series of numbers."
   ]
  },
  {
   "cell_type": "code",
   "execution_count": 26,
   "id": "b3dc0832-3be5-4de0-8f6a-707c9738662a",
   "metadata": {},
   "outputs": [
    {
     "name": "stdout",
     "output_type": "stream",
     "text": [
      "1 is an odd number\n",
      "2 is an even number\n",
      "5 is an odd number\n",
      "4 is an even number\n",
      "6 is an even number\n",
      "2 is an even number\n",
      "8 is an even number\n",
      "1 is an odd number\n",
      "75 is an odd number\n",
      "44 is an even number\n",
      "2300 is an even number\n",
      "75 is an odd number\n",
      "47 is an odd number\n"
     ]
    }
   ],
   "source": [
    "num_list=[1,2,5,4,6,2,8,1,75,44,2300,75,47]\n",
    "for i in num_list:\n",
    "    if i%2==0:\n",
    "        print(i,\"is an even number\")\n",
    "    else:\n",
    "        print(i,\"is an odd number\")"
   ]
  },
  {
   "cell_type": "code",
   "execution_count": null,
   "id": "d00ca443-cdc0-47f8-97cd-07dd606d8e28",
   "metadata": {},
   "outputs": [],
   "source": []
  }
 ],
 "metadata": {
  "kernelspec": {
   "display_name": "Python 3 (ipykernel)",
   "language": "python",
   "name": "python3"
  },
  "language_info": {
   "codemirror_mode": {
    "name": "ipython",
    "version": 3
   },
   "file_extension": ".py",
   "mimetype": "text/x-python",
   "name": "python",
   "nbconvert_exporter": "python",
   "pygments_lexer": "ipython3",
   "version": "3.11.3"
  }
 },
 "nbformat": 4,
 "nbformat_minor": 5
}
