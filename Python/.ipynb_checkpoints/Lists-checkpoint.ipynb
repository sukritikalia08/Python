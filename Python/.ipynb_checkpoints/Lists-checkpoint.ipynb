{
 "cells": [
  {
   "cell_type": "markdown",
   "id": "a2902f34-d8f6-4f45-aa9f-f93c3342271f",
   "metadata": {},
   "source": [
    "# LISTS"
   ]
  },
  {
   "cell_type": "code",
   "execution_count": 1,
   "id": "73ea7a5e-f123-4d2f-bd2e-91ce544316cf",
   "metadata": {},
   "outputs": [
    {
     "data": {
      "text/plain": [
       "[1, 4, 9, 16, 25]"
      ]
     },
     "execution_count": 1,
     "metadata": {},
     "output_type": "execute_result"
    }
   ],
   "source": [
    "squares = [1, 4, 9, 16, 25]\n",
    "squares"
   ]
  },
  {
   "cell_type": "code",
   "execution_count": 2,
   "id": "830cbdbe-9de9-43bf-909b-39e6270e61b7",
   "metadata": {},
   "outputs": [
    {
     "data": {
      "text/plain": [
       "1"
      ]
     },
     "execution_count": 2,
     "metadata": {},
     "output_type": "execute_result"
    }
   ],
   "source": [
    "squares[0] #indexing returns the item"
   ]
  },
  {
   "cell_type": "code",
   "execution_count": 3,
   "id": "8f72d952-fb2d-40fd-9c9a-7129ce8c940b",
   "metadata": {},
   "outputs": [
    {
     "data": {
      "text/plain": [
       "25"
      ]
     },
     "execution_count": 3,
     "metadata": {},
     "output_type": "execute_result"
    }
   ],
   "source": [
    "squares[-1]"
   ]
  },
  {
   "cell_type": "code",
   "execution_count": 5,
   "id": "6dfa8240-e488-4fc3-8038-fa81b3f2ad42",
   "metadata": {},
   "outputs": [
    {
     "data": {
      "text/plain": [
       "[9, 16, 25]"
      ]
     },
     "execution_count": 5,
     "metadata": {},
     "output_type": "execute_result"
    }
   ],
   "source": [
    "squares[-3:]  #slicing returns the new list"
   ]
  },
  {
   "cell_type": "code",
   "execution_count": 6,
   "id": "4e0c7413-b0ba-4484-b745-822f7ef41ad0",
   "metadata": {},
   "outputs": [
    {
     "data": {
      "text/plain": [
       "[1, 4, 9, 16, 25]"
      ]
     },
     "execution_count": 6,
     "metadata": {},
     "output_type": "execute_result"
    }
   ],
   "source": [
    "squares"
   ]
  },
  {
   "cell_type": "markdown",
   "id": "b3ae7a45-f1d5-4cb2-a05c-48aa94003ce8",
   "metadata": {},
   "source": [
    "##### Lists also support operations like concatenation"
   ]
  },
  {
   "cell_type": "code",
   "execution_count": 8,
   "id": "d48cb557-f942-4566-9c41-53c0892e17c1",
   "metadata": {},
   "outputs": [
    {
     "data": {
      "text/plain": [
       "[1, 4, 9, 16, 25, 36, 49, 64, 81, 100]"
      ]
     },
     "execution_count": 8,
     "metadata": {},
     "output_type": "execute_result"
    }
   ],
   "source": [
    "squares + [36, 49, 64, 81, 100]"
   ]
  },
  {
   "cell_type": "code",
   "execution_count": 9,
   "id": "c07700ef-d83d-4430-9fed-a60064873ef4",
   "metadata": {},
   "outputs": [
    {
     "data": {
      "text/plain": [
       "[1, 4, 9, 16, 25]"
      ]
     },
     "execution_count": 9,
     "metadata": {},
     "output_type": "execute_result"
    }
   ],
   "source": [
    "squares"
   ]
  },
  {
   "cell_type": "code",
   "execution_count": 11,
   "id": "e80e9baa-90b4-4113-a33c-12e65efc3c97",
   "metadata": {},
   "outputs": [
    {
     "data": {
      "text/plain": [
       "[1, 4, 9, 16, 25, 36, 49, 64, 81, 100, 36, 49, 64, 81, 100]"
      ]
     },
     "execution_count": 11,
     "metadata": {},
     "output_type": "execute_result"
    }
   ],
   "source": [
    "squares=squares + [36, 49, 64, 81, 100]\n",
    "squares"
   ]
  },
  {
   "cell_type": "code",
   "execution_count": 12,
   "id": "b613fa25-d8ff-4f1d-9345-2dbe9dced805",
   "metadata": {},
   "outputs": [
    {
     "data": {
      "text/plain": [
       "[1, 4, 9, 16, 25, 36, 49, 64, 81, 100, 36, 49, 64, 81, 100]"
      ]
     },
     "execution_count": 12,
     "metadata": {},
     "output_type": "execute_result"
    }
   ],
   "source": [
    "squares"
   ]
  },
  {
   "cell_type": "markdown",
   "id": "eee584a8-01c5-4298-85bf-b816dce29b13",
   "metadata": {},
   "source": [
    "##### Unlike strings, which are immutable, lists are a mutable type, i.e. it is possible to change their content"
   ]
  },
  {
   "cell_type": "code",
   "execution_count": 21,
   "id": "325fb364-3321-4c9b-bf66-30ec86ac2f81",
   "metadata": {},
   "outputs": [
    {
     "data": {
      "text/plain": [
       "[1, 8, 27, 64, 125]"
      ]
     },
     "execution_count": 21,
     "metadata": {},
     "output_type": "execute_result"
    }
   ],
   "source": [
    "cubes = [1, 8, 27, 65, 125]\n",
    "a=4**3\n",
    "cubes[3]=a\n",
    "cubes"
   ]
  },
  {
   "cell_type": "markdown",
   "id": "fbf352cc-acef-41e6-ab42-0aa54eb74801",
   "metadata": {},
   "source": [
    "##### add new items at the end of the list, by using the append() method "
   ]
  },
  {
   "cell_type": "code",
   "execution_count": 19,
   "id": "29876586-3f2c-44ff-83b8-bafcc8c1c559",
   "metadata": {},
   "outputs": [
    {
     "data": {
      "text/plain": [
       "[1, 8, 27, 64, 125, 216, 343]"
      ]
     },
     "execution_count": 19,
     "metadata": {},
     "output_type": "execute_result"
    }
   ],
   "source": [
    "cubes.append(216)\n",
    "cubes.append(7**3)\n",
    "cubes"
   ]
  },
  {
   "cell_type": "markdown",
   "id": "868ce3d3-7e01-4190-8c07-d24ca2125c90",
   "metadata": {},
   "source": [
    "##### Assignment to slices is also possible, and this can even change the size of the list or clear it entirely"
   ]
  },
  {
   "cell_type": "code",
   "execution_count": 22,
   "id": "91d535fb-d56d-4e53-84ee-a9dc6883b211",
   "metadata": {},
   "outputs": [
    {
     "data": {
      "text/plain": [
       "['a', 'b', 'c', 'd', 'e', 'f', 'g']"
      ]
     },
     "execution_count": 22,
     "metadata": {},
     "output_type": "execute_result"
    }
   ],
   "source": [
    "letters = ['a', 'b', 'c', 'd', 'e', 'f', 'g']\n",
    "letters"
   ]
  },
  {
   "cell_type": "code",
   "execution_count": 24,
   "id": "3d04ad61-ca3e-4747-8d72-1efacb6142d7",
   "metadata": {},
   "outputs": [
    {
     "data": {
      "text/plain": [
       "['a', 'b', 'C', 'D', 'E', 'f', 'g']"
      ]
     },
     "execution_count": 24,
     "metadata": {},
     "output_type": "execute_result"
    }
   ],
   "source": [
    "#replace some values\n",
    "letters[2:5]=['C','D','E']   #2 is included 5 is excluded\n",
    "letters"
   ]
  },
  {
   "cell_type": "code",
   "execution_count": 25,
   "id": "f6219677-e186-40d1-a4a5-5e4ee6967040",
   "metadata": {},
   "outputs": [
    {
     "data": {
      "text/plain": [
       "['a', 'b', 'f', 'g']"
      ]
     },
     "execution_count": 25,
     "metadata": {},
     "output_type": "execute_result"
    }
   ],
   "source": [
    "#removing those values\n",
    "letters[2:5]=[]\n",
    "letters"
   ]
  },
  {
   "cell_type": "code",
   "execution_count": 26,
   "id": "7a6f9135-482c-4187-b220-32b647afe4e6",
   "metadata": {},
   "outputs": [
    {
     "data": {
      "text/plain": [
       "[]"
      ]
     },
     "execution_count": 26,
     "metadata": {},
     "output_type": "execute_result"
    }
   ],
   "source": [
    "#clear the list by replacing all the elements with an empty list\n",
    "letters[:]=[]\n",
    "letters"
   ]
  },
  {
   "cell_type": "markdown",
   "id": "c3137de8-b376-4d2c-8f95-b9e0810bf5cd",
   "metadata": {},
   "source": [
    "##### The built-in function len() also applies to lists"
   ]
  },
  {
   "cell_type": "code",
   "execution_count": 28,
   "id": "15f18d59-3692-42f0-aa81-4a450cf68d38",
   "metadata": {},
   "outputs": [
    {
     "data": {
      "text/plain": [
       "4"
      ]
     },
     "execution_count": 28,
     "metadata": {},
     "output_type": "execute_result"
    }
   ],
   "source": [
    "letters = ['a', 'b', 'c', 'd']\n",
    "len(letters)"
   ]
  },
  {
   "cell_type": "markdown",
   "id": "a0c1b7a3-510c-4b3f-a6cb-cbca49937b03",
   "metadata": {},
   "source": [
    "##### It is possible to nest lists"
   ]
  },
  {
   "cell_type": "code",
   "execution_count": 29,
   "id": "c4098df6-3908-4cba-a3e7-bd06ff56415f",
   "metadata": {},
   "outputs": [
    {
     "data": {
      "text/plain": [
       "[['a', 'b', 'c'], [1, 2, 3]]"
      ]
     },
     "execution_count": 29,
     "metadata": {},
     "output_type": "execute_result"
    }
   ],
   "source": [
    "a = ['a', 'b', 'c']\n",
    "n = [1, 2, 3]\n",
    "x = [a, n]\n",
    "x"
   ]
  },
  {
   "cell_type": "code",
   "execution_count": 30,
   "id": "5f1a0532-8073-44ac-b527-59d3cba2b00c",
   "metadata": {},
   "outputs": [
    {
     "data": {
      "text/plain": [
       "['a', 'b', 'c']"
      ]
     },
     "execution_count": 30,
     "metadata": {},
     "output_type": "execute_result"
    }
   ],
   "source": [
    "x[0]"
   ]
  },
  {
   "cell_type": "code",
   "execution_count": 31,
   "id": "a1f0da73-822e-4d7d-935d-2ee2429e6be0",
   "metadata": {},
   "outputs": [
    {
     "data": {
      "text/plain": [
       "'b'"
      ]
     },
     "execution_count": 31,
     "metadata": {},
     "output_type": "execute_result"
    }
   ],
   "source": [
    "x[0][1]"
   ]
  },
  {
   "cell_type": "code",
   "execution_count": 32,
   "id": "4a021939-67e4-4375-b0b2-ea43c1ff9b92",
   "metadata": {},
   "outputs": [
    {
     "data": {
      "text/plain": [
       "1"
      ]
     },
     "execution_count": 32,
     "metadata": {},
     "output_type": "execute_result"
    }
   ],
   "source": [
    "x[1][0]"
   ]
  },
  {
   "cell_type": "code",
   "execution_count": 36,
   "id": "0f0cf33b-5404-4994-a963-939c5ac7fc26",
   "metadata": {},
   "outputs": [],
   "source": [
    "#Since ** has higher precedence than -, -3**2 will be interpreted as -(3**2) and thus result in -9. To avoid this and get 9, you can use (-3)**2."
   ]
  },
  {
   "cell_type": "code",
   "execution_count": null,
   "id": "9ff21bbc-3091-4d66-a2fe-b8eb5af3b941",
   "metadata": {},
   "outputs": [],
   "source": []
  },
  {
   "cell_type": "code",
   "execution_count": 37,
   "id": "846cbdaa-46ad-4447-8504-7672a9dd4142",
   "metadata": {},
   "outputs": [],
   "source": [
    "#Unlike other languages, special characters such as \\n have the same meaning with both single ('...') and double (\"...\") quotes. The only difference between the two is that within single quotes you don’t need to escape \" (but you have to escape \\') and vice versa."
   ]
  }
 ],
 "metadata": {
  "kernelspec": {
   "display_name": "Python 3 (ipykernel)",
   "language": "python",
   "name": "python3"
  },
  "language_info": {
   "codemirror_mode": {
    "name": "ipython",
    "version": 3
   },
   "file_extension": ".py",
   "mimetype": "text/x-python",
   "name": "python",
   "nbconvert_exporter": "python",
   "pygments_lexer": "ipython3",
   "version": "3.11.3"
  }
 },
 "nbformat": 4,
 "nbformat_minor": 5
}
