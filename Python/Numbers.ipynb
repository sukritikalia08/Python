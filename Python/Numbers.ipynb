{
 "cells": [
  {
   "cell_type": "markdown",
   "id": "51ffccb6-3f98-440b-9708-7d4855f11e15",
   "metadata": {},
   "source": [
    "## Numbers"
   ]
  },
  {
   "cell_type": "code",
   "execution_count": 1,
   "id": "2cb049c6-0f8a-4866-bbae-e3b11657a5c7",
   "metadata": {},
   "outputs": [
    {
     "data": {
      "text/plain": [
       "4"
      ]
     },
     "execution_count": 1,
     "metadata": {},
     "output_type": "execute_result"
    }
   ],
   "source": [
    "2+2"
   ]
  },
  {
   "cell_type": "code",
   "execution_count": 2,
   "id": "a34addd1-57dd-459d-8d04-1479e5813e08",
   "metadata": {},
   "outputs": [
    {
     "data": {
      "text/plain": [
       "26"
      ]
     },
     "execution_count": 2,
     "metadata": {},
     "output_type": "execute_result"
    }
   ],
   "source": [
    "50-4*6"
   ]
  },
  {
   "cell_type": "code",
   "execution_count": 3,
   "id": "e0f79bc3-ea9a-4784-9c15-74b238ccae57",
   "metadata": {},
   "outputs": [
    {
     "data": {
      "text/plain": [
       "26.0"
      ]
     },
     "execution_count": 3,
     "metadata": {},
     "output_type": "execute_result"
    }
   ],
   "source": [
    "(50+2)/2"
   ]
  },
  {
   "cell_type": "code",
   "execution_count": 6,
   "id": "fb82e76a-261f-4ab7-ae7a-6c3b87abbaea",
   "metadata": {},
   "outputs": [
    {
     "data": {
      "text/plain": [
       "2"
      ]
     },
     "execution_count": 6,
     "metadata": {},
     "output_type": "execute_result"
    }
   ],
   "source": [
    "17%3\n",
    "# % gives remainder"
   ]
  },
  {
   "cell_type": "code",
   "execution_count": 7,
   "id": "339d52d3-11b5-4e47-a0ac-291516726457",
   "metadata": {},
   "outputs": [
    {
     "data": {
      "text/plain": [
       "25"
      ]
     },
     "execution_count": 7,
     "metadata": {},
     "output_type": "execute_result"
    }
   ],
   "source": [
    "5**2\n",
    "# 5 squared"
   ]
  },
  {
   "cell_type": "code",
   "execution_count": 8,
   "id": "bc280471-3a46-42e5-a5f0-8ec4f7920244",
   "metadata": {},
   "outputs": [
    {
     "data": {
      "text/plain": [
       "128"
      ]
     },
     "execution_count": 8,
     "metadata": {},
     "output_type": "execute_result"
    }
   ],
   "source": [
    "2**7\n",
    "# 2 to the power of 7"
   ]
  },
  {
   "cell_type": "code",
   "execution_count": 9,
   "id": "0a2ae242-a02e-484c-9a87-981b840a2e62",
   "metadata": {},
   "outputs": [
    {
     "data": {
      "text/plain": [
       "60"
      ]
     },
     "execution_count": 9,
     "metadata": {},
     "output_type": "execute_result"
    }
   ],
   "source": [
    "# The equal sign (=) is used to assign a value to a variable.\n",
    "width=15\n",
    "height=2*2\n",
    "width*height"
   ]
  },
  {
   "cell_type": "code",
   "execution_count": 10,
   "id": "ceecc7de-9c59-4d7d-948e-15dabed81cb0",
   "metadata": {},
   "outputs": [
    {
     "data": {
      "text/plain": [
       "106.28"
      ]
     },
     "execution_count": 10,
     "metadata": {},
     "output_type": "execute_result"
    }
   ],
   "source": [
    "# There is full support for floating point; operators with mixed type operands convert the integer operand to floating point\n",
    "4*26.82-1"
   ]
  },
  {
   "cell_type": "code",
   "execution_count": 14,
   "id": "30a5b0fc-fe91-4333-b402-fd01b2bfadf2",
   "metadata": {},
   "outputs": [
    {
     "data": {
      "text/plain": [
       "113.06"
      ]
     },
     "execution_count": 14,
     "metadata": {},
     "output_type": "execute_result"
    }
   ],
   "source": [
    "# In interactive mode, the last printed expression is assigned to the variable _. This means that when you are using Python as a desk calculator\n",
    "tax=12.5/100\n",
    "price=100.50\n",
    "price*tax\n",
    "# 12.5625 will be the ans or the value of price\n",
    "price+_\n",
    "# 113.0625 will be the ans or the value of price\n",
    "round(_,2)"
   ]
  },
  {
   "cell_type": "code",
   "execution_count": null,
   "id": "57fa4d59-9407-4817-a819-40eb30d221f7",
   "metadata": {},
   "outputs": [],
   "source": []
  }
 ],
 "metadata": {
  "kernelspec": {
   "display_name": "Python 3 (ipykernel)",
   "language": "python",
   "name": "python3"
  },
  "language_info": {
   "codemirror_mode": {
    "name": "ipython",
    "version": 3
   },
   "file_extension": ".py",
   "mimetype": "text/x-python",
   "name": "python",
   "nbconvert_exporter": "python",
   "pygments_lexer": "ipython3",
   "version": "3.11.3"
  }
 },
 "nbformat": 4,
 "nbformat_minor": 5
}
