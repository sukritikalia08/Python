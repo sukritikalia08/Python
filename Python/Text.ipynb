{
 "cells": [
  {
   "cell_type": "markdown",
   "id": "35d8f361-f95f-4610-913b-6ceb2b30129d",
   "metadata": {},
   "source": [
    "# TEXTS"
   ]
  },
  {
   "cell_type": "code",
   "execution_count": 2,
   "id": "bde7e32f-3281-479f-bdee-6301e8402057",
   "metadata": {},
   "outputs": [
    {
     "data": {
      "text/plain": [
       "'spam'"
      ]
     },
     "execution_count": 2,
     "metadata": {},
     "output_type": "execute_result"
    }
   ],
   "source": [
    "# Python can manipulate text (represented by type str, so-called “strings”) as well as numbers. This includes characters “!”, words “rabbit”, names “Paris”, sentences “Got your back.”, etc. “Yay! :)”. They can be enclosed in single quotes ('...') or double quotes (\"...\")\n",
    "'spam'\n",
    "# \"spam1\""
   ]
  },
  {
   "cell_type": "code",
   "execution_count": 5,
   "id": "214bb133-4b62-4cd5-a459-05a63a3dbc63",
   "metadata": {},
   "outputs": [
    {
     "data": {
      "text/plain": [
       "\"doesn't\""
      ]
     },
     "execution_count": 5,
     "metadata": {},
     "output_type": "execute_result"
    }
   ],
   "source": [
    "'doesn\\'t'\n",
    "# we used \\ to escape the single quote"
   ]
  },
  {
   "cell_type": "code",
   "execution_count": 6,
   "id": "065f238a-cb95-468b-a8e0-b06bf381e29c",
   "metadata": {},
   "outputs": [
    {
     "data": {
      "text/plain": [
       "\"doesn't\""
      ]
     },
     "execution_count": 6,
     "metadata": {},
     "output_type": "execute_result"
    }
   ],
   "source": [
    "\"doesn't\""
   ]
  },
  {
   "cell_type": "code",
   "execution_count": 7,
   "id": "73f7443c-b8a6-4e8d-80f0-db0dfc410c5d",
   "metadata": {},
   "outputs": [
    {
     "data": {
      "text/plain": [
       "'\"Yes,\" they said.'"
      ]
     },
     "execution_count": 7,
     "metadata": {},
     "output_type": "execute_result"
    }
   ],
   "source": [
    "\"\\\"Yes,\\\" they said.\""
   ]
  },
  {
   "cell_type": "code",
   "execution_count": 8,
   "id": "88992891-ca2b-4a90-b5de-e6bb0acb22eb",
   "metadata": {},
   "outputs": [
    {
     "data": {
      "text/plain": [
       "'\"Isn\\'t,\" they said.'"
      ]
     },
     "execution_count": 8,
     "metadata": {},
     "output_type": "execute_result"
    }
   ],
   "source": [
    "'\"Isn\\'t,\" they said.'"
   ]
  },
  {
   "cell_type": "markdown",
   "id": "2115528f-cfcd-47bd-b3c0-e0c03c0d2301",
   "metadata": {},
   "source": [
    "##### In the Python shell, the string definition and output string can look different. The print() function produces a more readable output, by omitting the enclosing quotes and by printing escaped and special characters\n"
   ]
  },
  {
   "cell_type": "code",
   "execution_count": 12,
   "id": "843aac8d-b7b2-446f-916b-caf8e6f55e23",
   "metadata": {},
   "outputs": [
    {
     "name": "stdout",
     "output_type": "stream",
     "text": [
      "First line.\n",
      "Second line.\n"
     ]
    }
   ],
   "source": [
    "s = 'First line.\\nSecond line.'  # \\n means newline\n",
    "s  # without print(), special characters are included in the string\n",
    "# 'First line.\\nSecond line.' this will be the output\n",
    "\n",
    "print(s)"
   ]
  },
  {
   "cell_type": "code",
   "execution_count": 13,
   "id": "9955ea07-2d28-49b7-8445-1c9cb71ee152",
   "metadata": {},
   "outputs": [
    {
     "name": "stdout",
     "output_type": "stream",
     "text": [
      "C:\\some\\ name\n"
     ]
    }
   ],
   "source": [
    "print('C:\\some\\ name')"
   ]
  },
  {
   "cell_type": "code",
   "execution_count": 14,
   "id": "cfd4e34a-fd2d-471a-a259-2a24087cca6f",
   "metadata": {},
   "outputs": [
    {
     "name": "stdout",
     "output_type": "stream",
     "text": [
      "C:\\some\n",
      "ame\n"
     ]
    }
   ],
   "source": [
    "print('C:\\some\\name')  \n",
    "# here \\n means new line"
   ]
  },
  {
   "cell_type": "code",
   "execution_count": 16,
   "id": "4013d42e-70db-42e2-95d6-363239f9c887",
   "metadata": {},
   "outputs": [
    {
     "name": "stdout",
     "output_type": "stream",
     "text": [
      "C:\\some\\name\n"
     ]
    }
   ],
   "source": [
    "print(r'C:\\some\\name')\n",
    "# if you don't want a new line then add raw string i.e. r before the quote"
   ]
  },
  {
   "cell_type": "markdown",
   "id": "56dfbb0d-8278-49e5-ab88-3e0be0812651",
   "metadata": {},
   "source": [
    "##### There is one subtle aspect to raw strings: a raw string may not end in an odd number of \\ characters"
   ]
  },
  {
   "cell_type": "markdown",
   "id": "8ba91ae0-388d-410c-8931-86c15b47c583",
   "metadata": {},
   "source": [
    "##### String literals can span multiple lines. One way is using triple-quotes: \"\"\"...\"\"\" or '''...'''. End of lines are automatically included in the string, but it’s possible to prevent this by adding a \\ at the end of the line"
   ]
  },
  {
   "cell_type": "code",
   "execution_count": 17,
   "id": "9fd97637-3b2c-49b9-a03a-24ecd229e095",
   "metadata": {},
   "outputs": [
    {
     "name": "stdout",
     "output_type": "stream",
     "text": [
      "Usage: thingy [OPTIONS]\n",
      "     -h                        Display this usage message\n",
      "     -H hostname               Hostname to connect to\n",
      "\n"
     ]
    }
   ],
   "source": [
    "print(\"\"\"\\\n",
    "Usage: thingy [OPTIONS]\n",
    "     -h                        Display this usage message\n",
    "     -H hostname               Hostname to connect to\n",
    "\"\"\")"
   ]
  },
  {
   "cell_type": "code",
   "execution_count": 18,
   "id": "d5717066-6541-410b-93a6-0ecdfc6ff6f0",
   "metadata": {},
   "outputs": [
    {
     "name": "stdout",
     "output_type": "stream",
     "text": [
      "\n",
      "Usage: thingy [OPTIONS]\n",
      "     -h                        Display this usage message\n",
      "     -H hostname               Hostname to connect to\n",
      "\n"
     ]
    }
   ],
   "source": [
    "print(\"\"\"\n",
    "Usage: thingy [OPTIONS]\n",
    "     -h                        Display this usage message\n",
    "     -H hostname               Hostname to connect to\n",
    "\"\"\")"
   ]
  },
  {
   "cell_type": "markdown",
   "id": "b1487149-b169-46e6-a87e-0bb13b7c9d07",
   "metadata": {},
   "source": [
    "##### Strings can be concatenated (glued together) with the + operator, and repeated with *"
   ]
  },
  {
   "cell_type": "code",
   "execution_count": 20,
   "id": "dd317d3d-4fd9-4a05-bf45-8296e0f0f2f1",
   "metadata": {},
   "outputs": [
    {
     "data": {
      "text/plain": [
       "'unununium'"
      ]
     },
     "execution_count": 20,
     "metadata": {},
     "output_type": "execute_result"
    }
   ],
   "source": [
    "3*'un'+'ium'"
   ]
  },
  {
   "cell_type": "markdown",
   "id": "fd0104e7-88be-44d7-a20d-222dd791bc5c",
   "metadata": {},
   "source": [
    "##### Two or more string literals (i.e. the ones enclosed between quotes) next to each other are automatically concatenated."
   ]
  },
  {
   "cell_type": "code",
   "execution_count": 21,
   "id": "3e1b6518-838e-4c5c-9d51-89a1612de1de",
   "metadata": {},
   "outputs": [
    {
     "data": {
      "text/plain": [
       "'PYTHON'"
      ]
     },
     "execution_count": 21,
     "metadata": {},
     "output_type": "execute_result"
    }
   ],
   "source": [
    "'PY' 'THON'"
   ]
  },
  {
   "cell_type": "code",
   "execution_count": 23,
   "id": "7a98c597-e710-4275-b94f-a586d662f310",
   "metadata": {},
   "outputs": [
    {
     "data": {
      "text/plain": [
       "'Python'"
      ]
     },
     "execution_count": 23,
     "metadata": {},
     "output_type": "execute_result"
    }
   ],
   "source": [
    "prefix='Py'\n",
    "prefix + 'thon'\n",
    "'Python'"
   ]
  },
  {
   "cell_type": "markdown",
   "id": "dd36a7db-cb16-4110-8ca9-e3ee59069c0d",
   "metadata": {},
   "source": [
    "### INDEXING"
   ]
  },
  {
   "cell_type": "markdown",
   "id": "8e75e9c5-73b1-4d11-96f1-da5efa6b4e36",
   "metadata": {},
   "source": [
    "#### Note that since -0 is the same as 0, negative indices start from -1."
   ]
  },
  {
   "cell_type": "code",
   "execution_count": 24,
   "id": "abff2c92-cc25-410f-9cdf-2d7dd66b505a",
   "metadata": {},
   "outputs": [
    {
     "data": {
      "text/plain": [
       "'S'"
      ]
     },
     "execution_count": 24,
     "metadata": {},
     "output_type": "execute_result"
    }
   ],
   "source": [
    "word='Sukriti'\n",
    "word[0]  #here 0 means the the character at position 0"
   ]
  },
  {
   "cell_type": "code",
   "execution_count": 25,
   "id": "aac7b08b-717b-4069-a211-04b640014276",
   "metadata": {},
   "outputs": [
    {
     "data": {
      "text/plain": [
       "'i'"
      ]
     },
     "execution_count": 25,
     "metadata": {},
     "output_type": "execute_result"
    }
   ],
   "source": [
    "word[-1] #-1 means last character"
   ]
  },
  {
   "cell_type": "code",
   "execution_count": 26,
   "id": "d594eb6c-9060-44ce-a1e4-8d992ed4bcc1",
   "metadata": {},
   "outputs": [
    {
     "data": {
      "text/plain": [
       "'t'"
      ]
     },
     "execution_count": 26,
     "metadata": {},
     "output_type": "execute_result"
    }
   ],
   "source": [
    "word[-2] # -2 means second last character"
   ]
  },
  {
   "cell_type": "markdown",
   "id": "82c3fb5f-1f1d-4d4f-86a2-3479416c049e",
   "metadata": {},
   "source": [
    "##### While indexing is used to obtain individual characters, slicing allows you to obtain substring "
   ]
  },
  {
   "cell_type": "code",
   "execution_count": 27,
   "id": "a476ebb4-a208-4701-a049-b53d8d1f6cbd",
   "metadata": {},
   "outputs": [
    {
     "data": {
      "text/plain": [
       "'Su'"
      ]
     },
     "execution_count": 27,
     "metadata": {},
     "output_type": "execute_result"
    }
   ],
   "source": [
    "word[0:2] #position 0 (included) 2 (excluded)"
   ]
  },
  {
   "cell_type": "code",
   "execution_count": 28,
   "id": "67d036a7-7abb-45bf-868f-0de68fdec3d9",
   "metadata": {},
   "outputs": [
    {
     "data": {
      "text/plain": [
       "'kri'"
      ]
     },
     "execution_count": 28,
     "metadata": {},
     "output_type": "execute_result"
    }
   ],
   "source": [
    "word[2:5] #position 2 (included) 5 (excluded)"
   ]
  },
  {
   "cell_type": "code",
   "execution_count": 29,
   "id": "8855828e-a815-497f-8702-ab6b57d36fd4",
   "metadata": {},
   "outputs": [
    {
     "data": {
      "text/plain": [
       "'Su'"
      ]
     },
     "execution_count": 29,
     "metadata": {},
     "output_type": "execute_result"
    }
   ],
   "source": [
    "word[:2] #beginning to position 2 (excluded)"
   ]
  },
  {
   "cell_type": "code",
   "execution_count": 30,
   "id": "60356166-9bb9-4d6d-91c4-9c1f3e04efdc",
   "metadata": {},
   "outputs": [
    {
     "data": {
      "text/plain": [
       "'riti'"
      ]
     },
     "execution_count": 30,
     "metadata": {},
     "output_type": "execute_result"
    }
   ],
   "source": [
    "word[3:] #position 3 (included) to the end"
   ]
  },
  {
   "cell_type": "code",
   "execution_count": 31,
   "id": "6fdc15ec-9543-488a-9589-09484f738ba2",
   "metadata": {},
   "outputs": [
    {
     "data": {
      "text/plain": [
       "'iti'"
      ]
     },
     "execution_count": 31,
     "metadata": {},
     "output_type": "execute_result"
    }
   ],
   "source": [
    "word[-3:] # third last position (included) to the end"
   ]
  },
  {
   "cell_type": "markdown",
   "id": "e9d94ec4-cdb4-40e0-b142-681838b4516f",
   "metadata": {},
   "source": [
    "##### Note how the start is always included, and the end always excluded. This makes sure that s[:i] + s[i:] is always equal to s"
   ]
  },
  {
   "cell_type": "code",
   "execution_count": 32,
   "id": "c1c18d97-45c8-4307-a8f2-26849b3a1c90",
   "metadata": {},
   "outputs": [
    {
     "data": {
      "text/plain": [
       "'Sukriti'"
      ]
     },
     "execution_count": 32,
     "metadata": {},
     "output_type": "execute_result"
    }
   ],
   "source": [
    "word[:2]+word[2:]"
   ]
  },
  {
   "cell_type": "code",
   "execution_count": 33,
   "id": "4a51ea70-9ce4-475f-bbcb-1be53bc3803d",
   "metadata": {},
   "outputs": [
    {
     "data": {
      "text/plain": [
       "'Sukriti'"
      ]
     },
     "execution_count": 33,
     "metadata": {},
     "output_type": "execute_result"
    }
   ],
   "source": [
    "word[8:]+word[:8]"
   ]
  },
  {
   "cell_type": "markdown",
   "id": "c83cff8b-3428-4910-8b02-7eb0a66d7775",
   "metadata": {},
   "source": [
    "#### immutable\n",
    "An object with a fixed value. Immutable objects include numbers, strings and tuples. Such an object cannot be altered. A new object has to be created if a different value has to be stored. They play an important role in places where a constant hash value is needed, for example as a key in a dictionary."
   ]
  },
  {
   "cell_type": "markdown",
   "id": "cfa59a3e-17ec-42ff-b97d-51f528a5fa22",
   "metadata": {},
   "source": [
    "##### Python strings cannot be changed — they are immutable. Therefore, assigning to an indexed position in the string results in an error"
   ]
  },
  {
   "cell_type": "markdown",
   "id": "517ea9b5-788b-4dd5-b053-3c8b7b297f3b",
   "metadata": {},
   "source": [
    "##### If you need a different string, you should create a new one"
   ]
  },
  {
   "cell_type": "code",
   "execution_count": 36,
   "id": "74657cf1-bc6c-4a66-85f2-578a2c4f55ad",
   "metadata": {},
   "outputs": [
    {
     "data": {
      "text/plain": [
       "'akriti'"
      ]
     },
     "execution_count": 36,
     "metadata": {},
     "output_type": "execute_result"
    }
   ],
   "source": [
    "'a'+word[2:]"
   ]
  },
  {
   "cell_type": "code",
   "execution_count": 37,
   "id": "e015341f-1b2a-47ab-88c6-3dbba966521d",
   "metadata": {},
   "outputs": [
    {
     "data": {
      "text/plain": [
       "'Suaa'"
      ]
     },
     "execution_count": 37,
     "metadata": {},
     "output_type": "execute_result"
    }
   ],
   "source": [
    "word[:2]+'aa'"
   ]
  },
  {
   "cell_type": "markdown",
   "id": "c3a01920-688c-461f-8764-0ae4cb565d8e",
   "metadata": {},
   "source": [
    "##### The built-in function len() returns the length of a string"
   ]
  },
  {
   "cell_type": "code",
   "execution_count": 40,
   "id": "321dc5dd-e70c-4cc1-b229-525155d035af",
   "metadata": {},
   "outputs": [
    {
     "data": {
      "text/plain": [
       "7"
      ]
     },
     "execution_count": 40,
     "metadata": {},
     "output_type": "execute_result"
    }
   ],
   "source": [
    "s = 'sukriti'\n",
    "len(s)"
   ]
  },
  {
   "cell_type": "code",
   "execution_count": null,
   "id": "71371fcf-3bd0-47bb-b0c0-49716bda562a",
   "metadata": {},
   "outputs": [],
   "source": []
  }
 ],
 "metadata": {
  "kernelspec": {
   "display_name": "Python 3 (ipykernel)",
   "language": "python",
   "name": "python3"
  },
  "language_info": {
   "codemirror_mode": {
    "name": "ipython",
    "version": 3
   },
   "file_extension": ".py",
   "mimetype": "text/x-python",
   "name": "python",
   "nbconvert_exporter": "python",
   "pygments_lexer": "ipython3",
   "version": "3.11.3"
  }
 },
 "nbformat": 4,
 "nbformat_minor": 5
}
