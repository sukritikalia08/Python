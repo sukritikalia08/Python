{
 "cells": [
  {
   "cell_type": "markdown",
   "id": "e8bc93cf-ecd0-48b3-8fbc-67edb1689b5b",
   "metadata": {},
   "source": [
    "# While"
   ]
  },
  {
   "cell_type": "markdown",
   "id": "d7700bff-722a-4e42-b156-6218fbb94831",
   "metadata": {},
   "source": [
    "#### 1. Decrementing Loop"
   ]
  },
  {
   "cell_type": "code",
   "execution_count": 1,
   "id": "35291e92-cc0b-4e90-ab2d-900135599f89",
   "metadata": {},
   "outputs": [
    {
     "name": "stdout",
     "output_type": "stream",
     "text": [
      "10\n",
      "9\n",
      "8\n",
      "7\n",
      "6\n",
      "5\n",
      "4\n",
      "3\n",
      "2\n",
      "1\n"
     ]
    }
   ],
   "source": [
    "count=10\n",
    "while(count>0):\n",
    "    print(count)\n",
    "    count=count-1\n",
    "    "
   ]
  },
  {
   "cell_type": "markdown",
   "id": "c5aee9d1-c871-429b-9281-edf4dd8dc30a",
   "metadata": {},
   "source": [
    "#### 2. Else with while loop"
   ]
  },
  {
   "cell_type": "code",
   "execution_count": 2,
   "id": "860e26fa-0ce2-418c-a76e-bd6addbdb065",
   "metadata": {},
   "outputs": [
    {
     "name": "stdout",
     "output_type": "stream",
     "text": [
      "5\n",
      "4\n",
      "3\n",
      "2\n",
      "1\n",
      "Counter ends\n"
     ]
    }
   ],
   "source": [
    "# counter=-5\n",
    "counter=5\n",
    "while(counter>0):\n",
    "    print(counter)\n",
    "    counter=counter-1\n",
    "else:\n",
    "    print(\"Counter ends\")"
   ]
  },
  {
   "cell_type": "markdown",
   "id": "27c43891-b112-42f5-a0bf-a52a5076d98f",
   "metadata": {},
   "source": [
    "#### 3. Display numbers from 1 to 5"
   ]
  },
  {
   "cell_type": "code",
   "execution_count": 3,
   "id": "02557fa8-18c4-4367-8079-d6d311ae6b88",
   "metadata": {},
   "outputs": [
    {
     "name": "stdout",
     "output_type": "stream",
     "text": [
      "1\n",
      "2\n",
      "3\n",
      "4\n",
      "5\n"
     ]
    }
   ],
   "source": [
    "i=1\n",
    "j=5\n",
    "while i<=j:\n",
    "    print(i)\n",
    "    i=i+1"
   ]
  },
  {
   "cell_type": "markdown",
   "id": "7ac45556-5d73-4a5e-8e8f-75c7c6ecaef2",
   "metadata": {},
   "source": [
    "#### 4. Program to calculate the sum of numbers unit user enters zero"
   ]
  },
  {
   "cell_type": "code",
   "execution_count": 4,
   "id": "414613ad-5c93-4d98-848b-132940671486",
   "metadata": {},
   "outputs": [
    {
     "name": "stdout",
     "output_type": "stream",
     "text": [
      "Enter number: 2\n",
      "Enter number 2\n",
      "Enter number 2\n",
      "Enter number 2\n",
      "Enter number 2\n",
      "Enter number 2\n",
      "Enter number 2\n",
      "Enter number 2\n",
      "Enter number 2\n",
      "Enter number 2\n",
      "Enter number 2\n",
      "Enter number 2\n",
      "Enter number 0\n"
     ]
    },
    {
     "name": "stdout",
     "output_type": "stream",
     "text": [
      "Total is: 24\n"
     ]
    }
   ],
   "source": [
    "num=int(input(\"Enter number:\"))\n",
    "total=0\n",
    "while num!=0:\n",
    "    total=total+num\n",
    "    num=int(input(\"Enter number\"))\n",
    "print(\"Total is:\",total)"
   ]
  },
  {
   "cell_type": "markdown",
   "id": "cee4a9ad-0985-4375-a67a-c65609f1a412",
   "metadata": {},
   "source": [
    "#### 5. while loop with list- check if list still contains any element"
   ]
  },
  {
   "cell_type": "code",
   "execution_count": 5,
   "id": "642e603a-4f82-44d2-a3d0-d7fb3dc1462f",
   "metadata": {},
   "outputs": [
    {
     "name": "stdout",
     "output_type": "stream",
     "text": [
      "6\n",
      "5\n",
      "4\n",
      "3\n",
      "2\n",
      "1\n"
     ]
    }
   ],
   "source": [
    "a=[1,2,3,4,5,6]\n",
    "while a:\n",
    "    print(a.pop())"
   ]
  },
  {
   "cell_type": "markdown",
   "id": "2ba1b3f7-3f46-464f-8634-338ddc0a388b",
   "metadata": {},
   "source": [
    "#### 6. Write a python program to illustrate single statement while block"
   ]
  },
  {
   "cell_type": "code",
   "execution_count": 6,
   "id": "b7af820c-a25a-4c96-bcd6-39180d745427",
   "metadata": {},
   "outputs": [
    {
     "name": "stdout",
     "output_type": "stream",
     "text": [
      "Hello Geek\n",
      "Hello Geek\n",
      "Hello Geek\n",
      "Hello Geek\n",
      "Hello Geek\n",
      "Hello Geek\n",
      "Hello Geek\n"
     ]
    }
   ],
   "source": [
    "count=0\n",
    "while (count<7): count+=1; print(\"Hello Geek\")"
   ]
  },
  {
   "cell_type": "markdown",
   "id": "2f79fab5-1b38-402d-88f7-797cd0ea1bfd",
   "metadata": {},
   "source": [
    "#### 7. while loop with continue statement- Print all the letters except 'e' and 's'"
   ]
  },
  {
   "cell_type": "code",
   "execution_count": 3,
   "id": "6e60ee63-2535-4fa3-a805-231fb1095701",
   "metadata": {},
   "outputs": [
    {
     "ename": "KeyboardInterrupt",
     "evalue": "",
     "output_type": "error",
     "traceback": [
      "\u001b[1;31m---------------------------------------------------------------------------\u001b[0m",
      "\u001b[1;31mKeyboardInterrupt\u001b[0m                         Traceback (most recent call last)",
      "Cell \u001b[1;32mIn[3], line 3\u001b[0m\n\u001b[0;32m      1\u001b[0m i\u001b[39m=\u001b[39m\u001b[39m0\u001b[39m\n\u001b[0;32m      2\u001b[0m a\u001b[39m=\u001b[39m\u001b[39m\"\u001b[39m\u001b[39mgeeksforgreeks\u001b[39m\u001b[39m\"\u001b[39m\n\u001b[1;32m----> 3\u001b[0m \u001b[39mwhile\u001b[39;00m i\u001b[39m<\u001b[39m\u001b[39mlen\u001b[39m(a):\n\u001b[0;32m      4\u001b[0m     \u001b[39mif\u001b[39;00m a[i]\u001b[39m==\u001b[39m\u001b[39m\"\u001b[39m\u001b[39me\u001b[39m\u001b[39m\"\u001b[39m \u001b[39mor\u001b[39;00m a[i]\u001b[39m==\u001b[39m\u001b[39m\"\u001b[39m\u001b[39ms\u001b[39m\u001b[39m\"\u001b[39m:\n\u001b[0;32m      5\u001b[0m         i\u001b[39m+\u001b[39m\u001b[39m=\u001b[39m\u001b[39m1\u001b[39m\n",
      "\u001b[1;31mKeyboardInterrupt\u001b[0m: "
     ]
    }
   ],
   "source": [
    "i=0\n",
    "a=\"geeksforgreeks\"\n",
    "while i<len(a):\n",
    "    if a[i]==\"e\" or a[i]==\"s\":\n",
    "        i+=1\n",
    "        continue\n",
    "        print(\"Current letter:\",a[i])\n",
    "        i+=1"
   ]
  },
  {
   "cell_type": "markdown",
   "id": "5e569c3a-9a54-4cc1-95a6-8a46ad3301e9",
   "metadata": {},
   "source": [
    "#### 8. while loop with break statement- break the loop as soon it sees 'e' or 's'"
   ]
  },
  {
   "cell_type": "code",
   "execution_count": 1,
   "id": "df4d87a6-695c-4644-a9d2-13ebb103cc98",
   "metadata": {},
   "outputs": [
    {
     "name": "stdout",
     "output_type": "stream",
     "text": [
      "Current Letter: G\n"
     ]
    }
   ],
   "source": [
    "i=0\n",
    "a=\"Geeksforgreak\"\n",
    "while i<len(a):\n",
    "    if a[i]==\"e\" or a[i]==\"s\":\n",
    "        i+=1\n",
    "        break\n",
    "    print(\"Current Letter:\",a[i])\n",
    "    i+=1"
   ]
  }
 ],
 "metadata": {
  "kernelspec": {
   "display_name": "Python 3 (ipykernel)",
   "language": "python",
   "name": "python3"
  },
  "language_info": {
   "codemirror_mode": {
    "name": "ipython",
    "version": 3
   },
   "file_extension": ".py",
   "mimetype": "text/x-python",
   "name": "python",
   "nbconvert_exporter": "python",
   "pygments_lexer": "ipython3",
   "version": "3.11.3"
  }
 },
 "nbformat": 4,
 "nbformat_minor": 5
}
